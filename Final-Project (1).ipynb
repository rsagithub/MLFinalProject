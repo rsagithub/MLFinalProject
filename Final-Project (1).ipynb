{
 "cells": [
  {
   "cell_type": "code",
   "execution_count": 1,
   "id": "a1ae3bca-fce0-4148-9e45-44d9b0fb4767",
   "metadata": {},
   "outputs": [
    {
     "name": "stdout",
     "output_type": "stream",
     "text": [
      "Training set shape: (14545, 5) (14545,)\n",
      "Testing set shape: (3637, 5) (3637,)\n"
     ]
    }
   ],
   "source": [
    "from typing import Tuple, Dict, List, Callable\n",
    "from sklearn.model_selection import train_test_split\n",
    "from sklearn.preprocessing import StandardScaler\n",
    "from sklearn.linear_model import LogisticRegression\n",
    "from sklearn.metrics import classification_report, accuracy_score, confusion_matrix\n",
    "from sklearn.preprocessing import OneHotEncoder\n",
    "\n",
    "import numpy as np\n",
    "import pandas as pd\n",
    "import seaborn as sns\n",
    "import matplotlib.pyplot as plt\n",
    "\n",
    "file_path = '/System/Volumes/Data/Users/rowanamanna/Downloads/Recipe Reviews and User Feedback Dataset.csv'\n",
    "dataset = pd.read_csv(file_path)\n",
    "dataset['target'] = (dataset['stars'] >= 3).astype(int)\n",
    "numeric_features = ['user_reputation', 'reply_count', 'thumbs_up', 'thumbs_down', 'best_score']\n",
    "X = dataset[numeric_features]\n",
    "y = dataset['target']\n",
    "\n",
    "X = X.fillna(X.mean())\n",
    "\n",
    "scaler = StandardScaler()\n",
    "X_scaled = scaler.fit_transform(X)\n",
    "\n",
    "X_train, X_test, y_train, y_test = train_test_split(X_scaled, y, test_size=0.2, random_state=42, stratify=y)\n",
    "\n",
    "print(\"Training set shape:\", X_train.shape, y_train.shape)\n",
    "print(\"Testing set shape:\", X_test.shape, y_test.shape)\n"
   ]
  },
  {
   "cell_type": "code",
   "execution_count": 2,
   "id": "ab034492-2f69-4a54-abfa-ca775e9647d8",
   "metadata": {},
   "outputs": [
    {
     "name": "stdout",
     "output_type": "stream",
     "text": [
      "Training features shape: (10908, 6)\n",
      "Validation features shape: (3637, 6)\n",
      "Testing features shape: (3637, 6)\n",
      "y_true shape: (3637,)\n",
      "y_pred shape: (3637,)\n"
     ]
    }
   ],
   "source": [
    "def add_bias(X: np.ndarray) -> np.ndarray:\n",
    "    bias = np.ones((X.shape[0], 1))\n",
    "    return np.hstack((bias, X))\n",
    "\n",
    "\n",
    "def get_preprocessed_data(data: pd.DataFrame, target_col: str, features: list) -> Tuple[np.ndarray]:\n",
    "    X = data[features].copy().values\n",
    "    y = data[target_col].copy().values\n",
    "\n",
    "    hot_enc = OneHotEncoder(sparse_output=False)\n",
    "    y_hot = hot_enc.fit_transform(y.reshape(-1, 1))\n",
    "\n",
    "    X_temp, X_tst, y_temp, y_tst = train_test_split(X, y_hot, test_size=0.2, random_state=42, stratify=y)\n",
    "    X_trn, X_vld, y_trn, y_vld = train_test_split(X_temp, y_temp, test_size=0.25, random_state=42, stratify=y_temp.argmax(axis=1))\n",
    "\n",
    "    scaler = StandardScaler()\n",
    "    X_trn = scaler.fit_transform(X_trn)\n",
    "    X_vld = scaler.transform(X_vld)\n",
    "    X_tst = scaler.transform(X_tst)\n",
    "\n",
    "    X_trn = add_bias(X=X_trn)\n",
    "    X_vld = add_bias(X=X_vld)\n",
    "    X_tst = add_bias(X=X_tst)\n",
    "\n",
    "    if X_vld.shape[1] != X_trn.shape[1]:\n",
    "        X_vld = X_vld[:, :X_trn.shape[1]]\n",
    "    if X_tst.shape[1] != X_trn.shape[1]:\n",
    "        X_tst = X_tst[:, :X_trn.shape[1]]\n",
    "\n",
    "    return X_trn, y_trn, X_vld, y_vld, X_tst, y_tst\n",
    "\n",
    "\n",
    "X_train, y_train, X_valid, y_valid, X_test, y_test = get_preprocessed_data(\n",
    "    data=dataset,\n",
    "    target_col='target',\n",
    "    features=['user_reputation', 'reply_count', 'thumbs_up', 'thumbs_down', 'best_score']\n",
    ")\n",
    "\n",
    "print(f\"Training features shape: {X_train.shape}\")\n",
    "print(f\"Validation features shape: {X_valid.shape}\")\n",
    "print(f\"Testing features shape: {X_test.shape}\")\n",
    "\n",
    "y_true = np.argmax(y_test, axis=1) if len(y_test.shape) > 1 else y_test\n",
    "\n",
    "model = LogisticRegression(random_state=42, max_iter=500)\n",
    "model.fit(X_train, np.argmax(y_train, axis=1))\n",
    "y_pred = model.predict(X_test)\n",
    "\n",
    "print(\"y_true shape:\", y_true.shape)\n",
    "print(\"y_pred shape:\", y_pred.shape)\n",
    "assert y_true.shape == y_pred.shape, \"Shapes of y_true and y_pred must match!\""
   ]
  },
  {
   "cell_type": "code",
   "execution_count": 3,
   "id": "d9a7e466-d07b-49f2-9dcb-b4b28299df41",
   "metadata": {},
   "outputs": [],
   "source": [
    "from sklearn.metrics import (\n",
    "    accuracy_score,\n",
    "    confusion_matrix\n",
    ")"
   ]
  },
  {
   "cell_type": "code",
   "execution_count": 4,
   "id": "5bdb71be-acdf-48eb-8ac5-c9fe21732316",
   "metadata": {},
   "outputs": [],
   "source": [
    "def plot_confusion_matrix(\n",
    "    y: np.ndarray, \n",
    "    y_hat: np.ndarray, \n",
    "    class_names: Dict[int, str] = None\n",
    ") -> pd.DataFrame:\n",
    "\n",
    "    y = y.flatten()\n",
    "    y_hat = y_hat.flatten()\n",
    "\n",
    "    cfm = confusion_matrix(y_true=y, y_pred=y_hat)\n",
    "\n",
    "    labels = np.sort(np.unique(y))\n",
    "    if class_names is not None:\n",
    "        labels = [class_names.get(label, label) for label in labels]\n",
    "\n",
    "    cfm_df = pd.DataFrame(cfm, index=labels, columns=labels)\n",
    "\n",
    "    sns.heatmap(cfm_df, annot=True, fmt='g', cmap='Blues')\n",
    "    plt.xlabel(\"Predicted Labels\")\n",
    "    plt.ylabel(\"True Labels\")\n",
    "    plt.title(\"Confusion Matrix\")\n",
    "    plt.show()\n",
    "\n",
    "    return cfm_df"
   ]
  },
  {
   "cell_type": "code",
   "execution_count": 5,
   "id": "5c0073c9-855f-4da6-ad9c-1040f7cd4b15",
   "metadata": {},
   "outputs": [],
   "source": [
    "def plot_confusion_matrix(\n",
    "    y: np.ndarray, \n",
    "    y_hat: np.ndarray, \n",
    "    class_names: Dict[int, str] = None\n",
    ") -> pd.DataFrame:\n",
    "\n",
    "    y = y.flatten()\n",
    "    y_hat = y_hat.flatten()\n",
    "\n",
    "    cfm = confusion_matrix(y, y_hat)\n",
    "\n",
    "    labels = np.unique(y)\n",
    "    if class_names is not None:\n",
    "        class_labels = [class_names.get(label, str(label)) for label in labels]\n",
    "    else:\n",
    "        class_labels = labels\n",
    "\n",
    "    cfm_df = pd.DataFrame(cfm, index=class_labels, columns=class_labels)\n",
    "\n",
    "    plt.figure(figsize=(8, 6))\n",
    "    sns.heatmap(cfm_df, annot=True, fmt=\"d\", cmap=\"Blues\", cbar=False)\n",
    "    plt.xlabel(\"Predicted Labels\")\n",
    "    plt.ylabel(\"True Labels\")\n",
    "    plt.title(\"Confusion Matrix\")\n",
    "    plt.show()\n",
    "\n",
    "    return cfm_df"
   ]
  },
  {
   "cell_type": "code",
   "execution_count": 6,
   "id": "7aea734f-872e-4dfa-b127-648624213096",
   "metadata": {},
   "outputs": [
    {
     "name": "stdout",
     "output_type": "stream",
     "text": [
      "Accuracy: 0.88\n",
      "Classification Report:\n",
      "              precision    recall  f1-score   support\n",
      "\n",
      "    Negative       0.61      0.02      0.05       442\n",
      "    Positive       0.88      1.00      0.94      3195\n",
      "\n",
      "    accuracy                           0.88      3637\n",
      "   macro avg       0.75      0.51      0.49      3637\n",
      "weighted avg       0.85      0.88      0.83      3637\n",
      "\n"
     ]
    }
   ],
   "source": [
    "from sklearn.metrics import classification_report, accuracy_score\n",
    "\n",
    "accuracy = accuracy_score(y_true, y_pred)\n",
    "print(f\"Accuracy: {accuracy:.2f}\")\n",
    "\n",
    "print(\"Classification Report:\")\n",
    "print(classification_report(y_true, y_pred, target_names=[\"Negative\", \"Positive\"]))"
   ]
  },
  {
   "cell_type": "code",
   "execution_count": 7,
   "id": "5f0e7b1d-96d2-4bf3-a706-a7d3de49bfb2",
   "metadata": {},
   "outputs": [
    {
     "name": "stdout",
     "output_type": "stream",
     "text": [
      "y_true shape: (3637,)\n",
      "y_pred shape: (3637,)\n",
      "y_true values: [0 1]\n",
      "y_pred values: [0 1]\n"
     ]
    },
    {
     "data": {
      "image/png": "[encoded data removed]",
      "text/plain": [
       "<Figure size 600x400 with 2 Axes>"
      ]
     },
     "metadata": {},
     "output_type": "display_data"
    }
   ],
   "source": [
    "def plot_confusion_matrix(y_true, y_pred, class_names=None):\n",
    "\n",
    "    cm = confusion_matrix(y_true, y_pred)\n",
    "\n",
    "    if class_names is None:\n",
    "        class_names = [str(i) for i in range(len(cm))]\n",
    "\n",
    "    plt.figure(figsize=(6, 4))\n",
    "    sns.heatmap(cm, annot=True, fmt=\"d\", cmap=\"Blues\", xticklabels=class_names, yticklabels=class_names)\n",
    "    plt.xlabel(\"Predicted Labels\")\n",
    "    plt.ylabel(\"True Labels\")\n",
    "    plt.title(\"Confusion Matrix\")\n",
    "    plt.show()\n",
    "    \n",
    "y_true = np.argmax(y_test, axis=1) if len(y_test.shape) > 1 else y_test\n",
    "\n",
    "model = LogisticRegression(random_state=42, max_iter=500)\n",
    "model.fit(X_train, np.argmax(y_train, axis=1))\n",
    "y_pred = model.predict(X_test)\n",
    "\n",
    "print(\"y_true shape:\", y_true.shape)\n",
    "print(\"y_pred shape:\", y_pred.shape)\n",
    "print(\"y_true values:\", np.unique(y_true))\n",
    "print(\"y_pred values:\", np.unique(y_pred))\n",
    "\n",
    "class_names = [\"Negative\", \"Positive\"]\n",
    "\n",
    "plot_confusion_matrix(y_true, y_pred, class_names=class_names)\n"
   ]
  },
  {
   "cell_type": "code",
   "execution_count": 8,
   "id": "4333bcbb-b2e0-43fb-ae7f-b2a448f023c7",
   "metadata": {},
   "outputs": [],
   "source": [
    "def sigmoid(z: np.ndarray) -> np.ndarray:\n",
    "\n",
    "    return 1 / (1 + np.exp(-z))"
   ]
  },
  {
   "cell_type": "code",
   "execution_count": 9,
   "id": "e4087267-8c34-4e41-a06e-1aacb217f494",
   "metadata": {},
   "outputs": [],
   "source": [
    "def softmax(z: np.ndarray) -> np.ndarray:\n",
    "\n",
    "    exp_z = np.exp(z - np.max(z, axis=1, keepdims=True))\n",
    "    return exp_z / np.sum(exp_z, axis=1, keepdims=True)\n"
   ]
  },
  {
   "cell_type": "code",
   "execution_count": 10,
   "id": "7bd41dc8-7ef3-428a-996e-7e39f9c8db30",
   "metadata": {},
   "outputs": [],
   "source": [
    "def nll_loss(y: np.ndarray, probs: np.ndarray) -> float:\n",
    "\n",
    "    nll = -np.sum(y * np.log(probs + 1e-9)) / y.shape[0]  \n",
    "    return nll\n"
   ]
  },
  {
   "cell_type": "code",
   "execution_count": 11,
   "id": "4f1f2829-2c9d-45bc-b19f-7509658dc586",
   "metadata": {},
   "outputs": [],
   "source": [
    "def get_batches(\n",
    "    data_len: int, \n",
    "    batch_size: int = 32,\n",
    ") -> List[np.ndarray]:\n",
    "\n",
    "    indices = np.arange(data_len)\n",
    "    np.random.shuffle(indices)\n",
    "    batches = [indices[i:i + batch_size] for i in range(0, data_len, batch_size)]\n",
    "\n",
    "    return batches"
   ]
  },
  {
   "cell_type": "code",
   "execution_count": 12,
   "id": "a070e031-513d-4854-b3d4-63308f771880",
   "metadata": {},
   "outputs": [],
   "source": [
    "class SoftmaxRegression:\n",
    "    \n",
    "    def __init__(\n",
    "        self, \n",
    "        alpha: float,\n",
    "        batch_size: int,\n",
    "        epochs: int = 1,\n",
    "        seed: int = 0,\n",
    "    ):\n",
    "        self.alpha = alpha\n",
    "        self.batch_size = batch_size\n",
    "        self.epochs = epochs\n",
    "        self.seed = seed\n",
    "        self.W = None  \n",
    "        self.trn_loss = [] \n",
    "        self.vld_loss = [] \n",
    "\n",
    "    def fit(\n",
    "        self, \n",
    "        X: np.ndarray, \n",
    "        y: np.ndarray, \n",
    "        X_vld: np.ndarray = None, \n",
    "        y_vld: np.ndarray = None\n",
    "    ) -> object:\n",
    "        np.random.seed(self.seed)\n",
    "        \n",
    "        self.W = np.random.rand(X.shape[1], y.shape[1])\n",
    "\n",
    "        for e in range(self.epochs):  # Loop over epochs\n",
    "            batches = get_batches(data_len=X.shape[0], batch_size=self.batch_size)\n",
    "            \n",
    "            for b in batches: \n",
    "                Z = X[b] @ self.W\n",
    "                y_probs = softmax(Z)  \n",
    "                self.W -= self.alpha * ((1 / len(b)) * (X[b].T @ (y_probs - y[b])))\n",
    "            \n",
    "            self.trn_loss.append(nll_loss(y, softmax(X @ self.W)))\n",
    "            \n",
    "            if X_vld is not None and y_vld is not None:\n",
    "                self.vld_loss.append(nll_loss(y_vld, softmax(X_vld @ self.W)))\n",
    "        \n",
    "        return self\n",
    "\n",
    "    def predict(self, X: np.ndarray) -> np.ndarray:\n",
    "        return np.argmax((X @ self.W), axis=1).reshape(-1, 1)"
   ]
  },
  {
   "cell_type": "code",
   "execution_count": 13,
   "id": "444cdb4a-c1de-4e7d-b9eb-b2a391521edc",
   "metadata": {},
   "outputs": [
    {
     "name": "stdout",
     "output_type": "stream",
     "text": [
      "Training Accuracy: 0.8803\n"
     ]
    },
    {
     "data": {
      "image/png": "[encoded data removed]",
      "text/plain": [
       "<Figure size 640x480 with 1 Axes>"
      ]
     },
     "metadata": {},
     "output_type": "display_data"
    },
    {
     "name": "stdout",
     "output_type": "stream",
     "text": [
      "Test Accuracy: 0.8793\n"
     ]
    }
   ],
   "source": [
    "\n",
    "X_trn, y_trn, X_vld, y_vld, X_tst, y_tst = get_preprocessed_data(\n",
    "    data=dataset,\n",
    "    target_col='target',\n",
    "    features=['user_reputation', 'reply_count', 'thumbs_up', 'thumbs_down', 'best_score']\n",
    ")\n",
    "\n",
    "softmax_model = SoftmaxRegression(alpha=0.1, batch_size=64, epochs=100, seed=42)\n",
    "\n",
    "softmax_model.fit(X_trn, y_trn, X_vld=X_vld, y_vld=y_vld)\n",
    "\n",
    "y_trn_pred = softmax_model.predict(X_trn).flatten()\n",
    "train_accuracy = np.mean(np.argmax(y_trn, axis=1) == y_trn_pred)\n",
    "print(f\"Training Accuracy: {train_accuracy:.4f}\")\n",
    "\n",
    "plt.plot(softmax_model.trn_loss, label='Training Loss')\n",
    "if softmax_model.vld_loss:\n",
    "    plt.plot(softmax_model.vld_loss, label='Validation Loss')\n",
    "plt.xlabel('Epochs')\n",
    "plt.ylabel('Loss')\n",
    "plt.title('Learning Curve')\n",
    "plt.legend()\n",
    "plt.show()\n",
    "\n",
    "y_tst_pred = softmax_model.predict(X_tst).flatten()\n",
    "test_accuracy = np.mean(np.argmax(y_tst, axis=1) == y_tst_pred)\n",
    "print(f\"Test Accuracy: {test_accuracy:.4f}\")\n",
    "\n",
    "\n",
    "\n"
   ]
  },
  {
   "cell_type": "code",
   "execution_count": 14,
   "id": "b4cae46d-b0b5-4ab9-a62e-7841aa1206c7",
   "metadata": {},
   "outputs": [
    {
     "name": "stdout",
     "output_type": "stream",
     "text": [
      "Validation Accuracy: 0.8779\n"
     ]
    }
   ],
   "source": [
    "y_vld_pred = softmax_model.predict(X_vld).flatten()\n",
    "\n",
    "val_accuracy = np.mean(np.argmax(y_vld, axis=1) == y_vld_pred)\n",
    "print(f\"Validation Accuracy: {val_accuracy:.4f}\")"
   ]
  },
  {
   "cell_type": "code",
   "execution_count": 15,
   "id": "9f9739b1-b180-45b0-b89c-3d6f2bce7a80",
   "metadata": {},
   "outputs": [
    {
     "name": "stdout",
     "output_type": "stream",
     "text": [
      "Test Accuracy: 0.8793\n"
     ]
    }
   ],
   "source": [
    "y_tst_pred = softmax_model.predict(X_tst).flatten()\n",
    "\n",
    "test_accuracy = np.mean(np.argmax(y_tst, axis=1) == y_tst_pred)\n",
    "print(f\"Test Accuracy: {test_accuracy:.4f}\")"
   ]
  },
  {
   "cell_type": "code",
   "execution_count": 16,
   "id": "e8581ac7-4931-43ef-abe9-7f1a1cfa1753",
   "metadata": {},
   "outputs": [
    {
     "name": "stdout",
     "output_type": "stream",
     "text": [
      "Training set shape: (10908, 6) (10908, 2)\n",
      "Validation set shape: (3637, 6) (3637, 2)\n",
      "Test set shape: (3637, 6) (3637, 2)\n"
     ]
    }
   ],
   "source": [
    "print(\"Training set shape:\", X_trn.shape, y_trn.shape)\n",
    "print(\"Validation set shape:\", X_vld.shape, y_vld.shape)\n",
    "print(\"Test set shape:\", X_tst.shape, y_tst.shape)\n"
   ]
  },
  {
   "cell_type": "code",
   "execution_count": 17,
   "id": "22817a79-5aec-417c-9f7c-e357eb4e5a72",
   "metadata": {},
   "outputs": [
    {
     "data": {
      "text/plain": [
       "'END OF LOGISTIC REGRESSION'"
      ]
     },
     "execution_count": 17,
     "metadata": {},
     "output_type": "execute_result"
    }
   ],
   "source": [
    "'END OF LOGISTIC REGRESSION'"
   ]
  },
  {
   "cell_type": "code",
   "execution_count": 18,
   "id": "be4aa00c-45a8-4f23-a647-843c8b011a3c",
   "metadata": {},
   "outputs": [
    {
     "data": {
      "text/plain": [
       "'START OF KNN'"
      ]
     },
     "execution_count": 18,
     "metadata": {},
     "output_type": "execute_result"
    }
   ],
   "source": [
    "'START OF KNN'"
   ]
  },
  {
   "cell_type": "code",
   "execution_count": null,
   "id": "212c365a-971c-4a6f-b1de-9e3d3a3b18bb",
   "metadata": {},
   "outputs": [
    {
     "name": "stdout",
     "output_type": "stream",
     "text": [
      "   user_reputation  reply_count  thumbs_up  thumbs_down  best_score    target\n",
      "0                1            0          0            0         527  Positive\n",
      "1               50            0          7            0         724  Positive\n",
      "2               10            0          3            0         710  Positive\n",
      "3                1            2          2            0         581  Negative\n",
      "4               10            1          7            0         820  Negative\n"
     ]
    }
   ],
   "source": [
    "import matplotlib.pyplot as plt\n",
    "import seaborn as sns\n",
    "import pandas as pd\n",
    "\n",
    "pairplot_df = pd.concat([dataset[numeric_features], dataset['target']], axis=1)\n",
    "\n",
    "pairplot_df['target'] = pairplot_df['target'].map({0: 'Negative', 1: 'Positive'})\n",
    "\n",
    "print(pairplot_df.head())\n",
    "\n",
    "sns.pairplot(pairplot_df, hue='target', diag_kind='kde')\n",
    "plt.show()\n"
   ]
  },
  {
   "cell_type": "code",
   "execution_count": null,
   "id": "0146bd48-fc17-4255-92b8-aa43d67c3656",
   "metadata": {},
   "outputs": [],
   "source": []
  },
  {
   "cell_type": "code",
   "execution_count": null,
   "id": "5db5d212-4cd4-479e-8f87-6bc808a0f026",
   "metadata": {},
   "outputs": [],
   "source": [
    "def euclidean_distance(x: np.ndarray, Y: np.ndarray) -> np.ndarray:\n",
    "\n",
    "    assert len(Y.shape) == 2, \"Y must be a 2D matrix.\"\n",
    "    distances = np.sqrt(np.sum((Y - x) ** 2, axis=1))\n",
    "    return distances\n",
    "\n",
    "data_matrix = dataset[numeric_features].to_numpy()\n",
    "\n",
    "x = data_matrix[0]\n",
    "\n",
    "distances = euclidean_distance(x, data_matrix)\n",
    "\n",
    "print(\"Distances from the first row to all rows in the dataset:\")\n",
    "print(distances)"
   ]
  },
  {
   "cell_type": "code",
   "execution_count": null,
   "id": "873ecf49-a7f8-4554-9470-18b70919d019",
   "metadata": {},
   "outputs": [],
   "source": [
    "def accuracy(y: np.ndarray, y_hat: np.ndarray) -> float:\n",
    "\n",
    "    y = y.reshape(-1,)  \n",
    "    y_hat = y_hat.reshape(-1,) \n",
    "\n",
    "    are_same = (y == y_hat)\n",
    "    \n",
    "    total_correct = np.sum(are_same)\n",
    "    \n",
    "    total_samples = len(y)\n",
    "    \n",
    "    print(f\"Accuracy ratio: {total_correct}/{total_samples}\")\n",
    "    \n",
    "    accuracy_value = total_correct / total_samples\n",
    "\n",
    "    return accuracy_value\n",
    "\n",
    "\n",
    "y_test_flat = np.argmax(y_test, axis=1)  \n",
    "y_tst_pred_flat = softmax_model.predict(X_tst).flatten() \n",
    "\n",
    "test_accuracy = accuracy(y=y_test_flat, y_hat=y_tst_pred_flat)\n",
    "print(f\"Test Accuracy: {test_accuracy:.4f}\")\n"
   ]
  },
  {
   "cell_type": "code",
   "execution_count": null,
   "id": "5c237a88-f5fb-416c-9ce0-54eab3db07db",
   "metadata": {},
   "outputs": [],
   "source": [
    "class KNearestNeighbors:\n",
    "\n",
    "    def __init__(self, k: int, distance_measure: Callable):\n",
    "\n",
    "        self.k = k\n",
    "        self.distance_measure = distance_measure\n",
    "        self.X: np.ndarray = None\n",
    "        self.y: np.ndarray = None\n",
    "        \n",
    "    def fit(self, X: np.ndarray, y: np.ndarray) -> None:\n",
    "\n",
    "        self.X = X\n",
    "        self.y = y\n",
    "\n",
    "    def predict(self, X: np.ndarray) -> np.ndarray:\n",
    "\n",
    "        y_hats: list = []\n",
    "        for x_test in X:\n",
    "            distances = self.distance_measure(x_test, self.X)\n",
    "            nearest_indices = np.argsort(distances)[:self.k]\n",
    "            nearest_labels = self.y[nearest_indices]\n",
    "            label_counts = np.bincount(nearest_labels)\n",
    "            y_hats.append(np.argmax(label_counts))\n",
    "        return np.array(y_hats)"
   ]
  },
  {
   "cell_type": "code",
   "execution_count": null,
   "id": "df55cddc-38bb-4d47-98f6-c3d9ec8f614e",
   "metadata": {},
   "outputs": [],
   "source": [
    "if len(y_train.shape) > 1:\n",
    "    y_train_flat = np.argmax(y_train, axis=1)\n",
    "else:\n",
    "    y_train_flat = y_train\n",
    "\n",
    "if len(y_test.shape) > 1:\n",
    "    y_test_flat = np.argmax(y_test, axis=1)\n",
    "else:\n",
    "    y_test_flat = y_test\n",
    "\n",
    "knn = KNearestNeighbors(k=3, distance_measure=euclidean_distance)\n",
    "\n",
    "knn.fit(X_train, y_train_flat)\n",
    "\n",
    "y_pred = knn.predict(X_test)\n",
    "\n",
    "test_acc = accuracy(y=y_test_flat, y_hat=y_pred)\n",
    "print(f\"Predictions: {y_pred}\")\n",
    "print(f\"Test accuracy: {test_acc:.4f}\")\n"
   ]
  },
  {
   "cell_type": "code",
   "execution_count": null,
   "id": "7e3dd2f3-ff17-4cf7-a4a9-e92b0be5b300",
   "metadata": {},
   "outputs": [],
   "source": [
    "k_values = [1, 25, 50, 100]\n",
    "\n",
    "for k in k_values:\n",
    "    print(f\"\\nRunning KNN with k={k}\")\n",
    "    \n",
    "    knn = KNearestNeighbors(k=k, distance_measure=euclidean_distance)\n",
    "    \n",
    "    y_train_flat = np.argmax(y_train, axis=1) if len(y_train.shape) > 1 else y_train\n",
    "    y_test_flat = np.argmax(y_test, axis=1) if len(y_test.shape) > 1 else y_test\n",
    "    \n",
    "    knn.fit(X_train, y_train_flat)\n",
    "    \n",
    "    y_pred = knn.predict(X_test)\n",
    "    \n",
    "    print(f\"Predictions with k={k}: {y_pred}\")\n",
    "    \n",
    "    test_acc = accuracy(y=y_test_flat, y_hat=y_pred)\n",
    "    print(f\"Test accuracy with k={k}: {test_acc:.4f}\")\n"
   ]
  },
  {
   "cell_type": "code",
   "execution_count": null,
   "id": "889b90f9-903f-4511-836d-128991887b4b",
   "metadata": {},
   "outputs": [],
   "source": [
    "sns.set_palette(\"coolwarm\")\n",
    "plt.figure(figsize=(8, 6))\n",
    "sns.countplot(data=dataset, x='stars')\n",
    "plt.title('Distribution of Recipe Ratings (Stars)')\n",
    "plt.xlabel('Stars (Rating)')\n",
    "plt.ylabel('Count')\n",
    "plt.show()"
   ]
  },
  {
   "cell_type": "code",
   "execution_count": null,
   "id": "392b24ee-b68d-473d-bcf1-4a37516851aa",
   "metadata": {},
   "outputs": [],
   "source": [
    "numeric_features = ['user_reputation', 'reply_count', 'thumbs_up', 'thumbs_down', 'best_score']\n",
    "correlation_matrix = dataset[numeric_features].corr()\n",
    "plt.figure(figsize=(8, 6))\n",
    "sns.heatmap(correlation_matrix, annot=True, cmap='coolwarm', fmt='.2f', linewidths=0.5)\n",
    "plt.title('Feature Correlation Heatmap')\n",
    "plt.show()"
   ]
  },
  {
   "cell_type": "code",
   "execution_count": null,
   "id": "fc774f77-b6a7-4997-8135-8f0138ff28c3",
   "metadata": {},
   "outputs": [],
   "source": [
    "plt.figure(figsize=(8, 6))\n",
    "sns.countplot(data=dataset, x='target', hue='target', palette='Set1', legend=False)\n",
    "plt.title('Distribution of Recipe Ratings (Positive vs. Negative)')\n",
    "plt.xlabel('Target (Positive vs. Negative)')\n",
    "plt.ylabel('Count')\n",
    "plt.xticks(ticks=[0, 1], labels=['Negative', 'Positive'])\n",
    "plt.show()"
   ]
  }
 ],
 "metadata": {
  "kernelspec": {
   "display_name": "Python 3 (ipykernel)",
   "language": "python",
   "name": "python3"
  },
  "language_info": {
   "codemirror_mode": {
    "name": "ipython",
    "version": 3
   },
   "file_extension": ".py",
   "mimetype": "text/x-python",
   "name": "python",
   "nbconvert_exporter": "python",
   "pygments_lexer": "ipython3",
   "version": "3.9.19"
  }
 },
 "nbformat": 4,
 "nbformat_minor": 5
}
